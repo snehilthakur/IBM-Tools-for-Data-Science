{
  "metadata": {
    "language_info": {
      "codemirror_mode": {
        "name": "python",
        "version": 3
      },
      "file_extension": ".py",
      "mimetype": "text/x-python",
      "name": "python",
      "nbconvert_exporter": "python",
      "pygments_lexer": "ipython3",
      "version": "3.8"
    },
    "kernelspec": {
      "name": "python",
      "display_name": "Pyolite",
      "language": "python"
    }
  },
  "nbformat_minor": 4,
  "nbformat": 4,
  "cells": [
    {
      "cell_type": "markdown",
      "source": "# My Jupyter Notebook on IBM Watson Studio",
      "metadata": {}
    },
    {
      "cell_type": "markdown",
      "source": "Name: __Snehil Thakur__  \nOccupation: Production Engineer",
      "metadata": {}
    },
    {
      "cell_type": "markdown",
      "source": "*I am interested in data science because I want to analyse a large amount of data to improve the production process at my current work place.*",
      "metadata": {}
    },
    {
      "cell_type": "markdown",
      "source": "### Even Odd Program - tells if the entered number is even or odd",
      "metadata": {}
    },
    {
      "cell_type": "code",
      "source": "num = 7           # Enter a number \n\nif (num % 2) == 0:\n    print ('Entered number is even')\nelse:\n    print ('Entered number is odd')",
      "metadata": {
        "trusted": true
      },
      "execution_count": 4,
      "outputs": [
        {
          "name": "stdout",
          "text": "Entered number is odd\n",
          "output_type": "stream"
        }
      ]
    },
    {
      "cell_type": "markdown",
      "source": "__*Favorite rappers (in no particular order):*__\n* Eminem\n* Jay-Z\n* Kanye West\n* 50 cent\n* Nas\n* ~~Linkin Park~~\n* ~~Taylor Swift~~\n\n__*Gaming console prices and brands:*__\n\nConsole | Company | Price (AUD)\n--- | --- | ---\nPS5 | Sony | 749\nXbox  | Microsoft | 749 \nSwitch  | Nintendo | 449 ",
      "metadata": {}
    },
    {
      "cell_type": "code",
      "source": "",
      "metadata": {},
      "execution_count": null,
      "outputs": []
    }
  ]
}